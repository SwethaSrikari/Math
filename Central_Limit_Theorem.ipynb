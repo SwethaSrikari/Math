{
  "nbformat": 4,
  "nbformat_minor": 0,
  "metadata": {
    "colab": {
      "provenance": [],
      "authorship_tag": "ABX9TyMTuqMGZRX13DJ1/vp54IcS",
      "include_colab_link": true
    },
    "kernelspec": {
      "name": "python3",
      "display_name": "Python 3"
    },
    "language_info": {
      "name": "python"
    }
  },
  "cells": [
    {
      "cell_type": "markdown",
      "metadata": {
        "id": "view-in-github",
        "colab_type": "text"
      },
      "source": [
        "<a href=\"https://colab.research.google.com/github/SwethaSrikari/Math/blob/main/Central_Limit_Theorem.ipynb\" target=\"_parent\"><img src=\"https://colab.research.google.com/assets/colab-badge.svg\" alt=\"Open In Colab\"/></a>"
      ]
    },
    {
      "cell_type": "markdown",
      "source": [
        "**Understanding Central Limit Theorem using Python**\n",
        "\n",
        "Reference - [Central Limit Theorem](https://sphweb.bumc.bu.edu/otlt/mph-modules/bs/bs704_probability/BS704_Probability12.html#:~:text=The%20central%20limit%20theorem%20states,will%20be%20approximately%20normally%20distributed.)"
      ],
      "metadata": {
        "id": "6P5O-aeRDFTP"
      }
    },
    {
      "cell_type": "markdown",
      "source": [
        "**Central Limit Theorem**\n",
        "\n",
        "The central limit theorem states that if you have a population with mean μ and standard deviation σ and take sufficiently large random samples from the population with replacement, then the distribution of the sample means will be approximately normally distributed.\n",
        "\n",
        "What this means? - If you sample values (with replacement) from the true population many times and calculate sample mean at each trial, the distribution of the sample means resembles a normal distribution with the mean the of sample means distribution approximately equal or close to the true population mean. "
      ],
      "metadata": {
        "id": "S5yir7HQDgGk"
      }
    },
    {
      "cell_type": "code",
      "execution_count": 1,
      "metadata": {
        "id": "NLedkbXpC43r"
      },
      "outputs": [],
      "source": [
        "import random\n",
        "import numpy as np\n",
        "import matplotlib.pyplot as plt"
      ]
    },
    {
      "cell_type": "markdown",
      "source": [
        "### 1 - If the source population is normally distributed, then the sample means will have a normal distribution even when the sample size is less than 30 - `n < 30`, where `n` is the sample size"
      ],
      "metadata": {
        "id": "pkU4p2WOEjgW"
      }
    },
    {
      "cell_type": "code",
      "source": [
        "# True population with normal distribution\n",
        "np.random.seed(128)\n",
        "sample1 = np.random.normal(3.5, 1.5, 100000) # mean=3.5, std_dev=1.5, sample_size=100000"
      ],
      "metadata": {
        "id": "b3cTxRYJDfkf"
      },
      "execution_count": 2,
      "outputs": []
    },
    {
      "cell_type": "markdown",
      "source": [
        "**Check - source population is normally distributed**"
      ],
      "metadata": {
        "id": "G_yhlp-VKhet"
      }
    },
    {
      "cell_type": "code",
      "source": [
        "# Histogram showing the distribution of samples with their frequencies on y axis\n",
        "plt.hist(sample1)\n",
        "plt.xlabel('X')\n",
        "plt.ylabel('Frequency')\n",
        "plt.title('Distribution of random variable X with sample mean 3.5 and standard deviation 1.5')"
      ],
      "metadata": {
        "colab": {
          "base_uri": "https://localhost:8080/",
          "height": 313
        },
        "id": "g5DSLvqnDDb_",
        "outputId": "3ce2e520-eb2e-4b9e-f962-db0bb08619b2"
      },
      "execution_count": 3,
      "outputs": [
        {
          "output_type": "execute_result",
          "data": {
            "text/plain": [
              "Text(0.5, 1.0, 'Distribution of random variable X with sample mean 3.5 and standard deviation 1.5')"
            ]
          },
          "metadata": {},
          "execution_count": 3
        },
        {
          "output_type": "display_data",
          "data": {
            "text/plain": [
              "<Figure size 432x288 with 1 Axes>"
            ],
            "image/png": "[encoded data removed]"
          },
          "metadata": {
            "needs_background": "light"
          }
        }
      ]
    },
    {
      "cell_type": "code",
      "source": [
        "# Randomly sampling 10 samples and calculating their sample means ans standard deviations 10000 times\n",
        "sample1_means = []\n",
        "sample1_std = []\n",
        "for i in range(10000):\n",
        "  sample = np.random.choice(sample1, 10) # Randomly sample 10 values from sample1 with replacement\n",
        "  sample1_means.append(np.mean(sample)) # Calculate the mean for each trial\n",
        "  sample1_std.append(np.std(sample)) # Calculate the std_dev for each trial"
      ],
      "metadata": {
        "id": "g2QdrVFyH1Ym"
      },
      "execution_count": 4,
      "outputs": []
    },
    {
      "cell_type": "markdown",
      "source": [
        "**Check - distribution of sample means is also normally distributed**"
      ],
      "metadata": {
        "id": "u6xgIGyFK4Al"
      }
    },
    {
      "cell_type": "code",
      "source": [
        "plt.hist(sample1_means)\n",
        "plt.xlabel('Sample means')\n",
        "plt.ylabel('Frequency')\n",
        "plt.title('Distribution of sample means')"
      ],
      "metadata": {
        "colab": {
          "base_uri": "https://localhost:8080/",
          "height": 313
        },
        "id": "kUmdTnICJ3i-",
        "outputId": "db679473-ab88-4688-f46f-232b1e2babde"
      },
      "execution_count": 5,
      "outputs": [
        {
          "output_type": "execute_result",
          "data": {
            "text/plain": [
              "Text(0.5, 1.0, 'Distribution of sample means')"
            ]
          },
          "metadata": {},
          "execution_count": 5
        },
        {
          "output_type": "display_data",
          "data": {
            "text/plain": [
              "<Figure size 432x288 with 1 Axes>"
            ],
            "image/png": "[encoded data removed]"
          },
          "metadata": {
            "needs_background": "light"
          }
        }
      ]
    },
    {
      "cell_type": "markdown",
      "source": [
        "**Check - The average of the sample means and sample standard deviation should be close to the true population mean 3.5 and true standard deviation 1.5 respectively**"
      ],
      "metadata": {
        "id": "R-hGwXGXNyKS"
      }
    },
    {
      "cell_type": "code",
      "source": [
        "print('Mean of the sample means', np.mean(sample1_means))\n",
        "print('Mean of the sample standard deviations', np.mean(sample1_std))"
      ],
      "metadata": {
        "colab": {
          "base_uri": "https://localhost:8080/"
        },
        "id": "yEk0iqQXNxi-",
        "outputId": "3175bdf6-5fe6-4c3c-db34-b55abb76e0a5"
      },
      "execution_count": 6,
      "outputs": [
        {
          "output_type": "stream",
          "name": "stdout",
          "text": [
            "Mean of the sample means 3.4997537973830783\n",
            "Mean of the sample standard deviations 1.3845785282053071\n"
          ]
        }
      ]
    },
    {
      "cell_type": "markdown",
      "source": [
        "### 2 - Even if the source population is not normally distributed, the sample means will have normal distribution when the sample size is more than 30 - `n > 30`, where `n` is the sample size. As the sample size `n` increases, the standard error of the sample means `σ / sqrt(n)` decreases and vice versa; where `σ` is the true standard deviation"
      ],
      "metadata": {
        "id": "EXIFk4pfPgVT"
      }
    },
    {
      "cell_type": "code",
      "source": [
        "# True population with poisson distribution\n",
        "np.random.seed(128)\n",
        "sample2 = np.random.poisson(5, 100000) # mean=5, sample_size=100000\n",
        "mean_2 = np.mean(sample2)\n",
        "std_dev2 = np.std(sample2)\n",
        "print('Population mean and standard deviation - ', mean_2, ',', std_dev2)"
      ],
      "metadata": {
        "colab": {
          "base_uri": "https://localhost:8080/"
        },
        "id": "q8FX0ytMQQn5",
        "outputId": "b49337dc-0bc9-44dc-ecbc-b89056ff22fb"
      },
      "execution_count": 7,
      "outputs": [
        {
          "output_type": "stream",
          "name": "stdout",
          "text": [
            "Population mean and standard deviation -  4.99531 , 2.242063336282006\n"
          ]
        }
      ]
    },
    {
      "cell_type": "markdown",
      "source": [
        "**Check - Distribution is not normal**"
      ],
      "metadata": {
        "id": "Fhr78U6CSuvY"
      }
    },
    {
      "cell_type": "code",
      "source": [
        "# Histogram showing the distribution of samples with their frequencies on y axis\n",
        "plt.hist(sample2)\n",
        "plt.xlabel('X')\n",
        "plt.ylabel('Frequency')\n",
        "plt.title('Distribution of random variable X with sample mean 5 and standard deviation 2.24')"
      ],
      "metadata": {
        "colab": {
          "base_uri": "https://localhost:8080/",
          "height": 313
        },
        "id": "JiL2yghuRR70",
        "outputId": "80dd6905-b210-4996-ee5a-24f6a04a2f27"
      },
      "execution_count": 8,
      "outputs": [
        {
          "output_type": "execute_result",
          "data": {
            "text/plain": [
              "Text(0.5, 1.0, 'Distribution of random variable X with sample mean 5 and standard deviation 2.24')"
            ]
          },
          "metadata": {},
          "execution_count": 8
        },
        {
          "output_type": "display_data",
          "data": {
            "text/plain": [
              "<Figure size 432x288 with 1 Axes>"
            ],
            "image/png": "[encoded data removed]"
          },
          "metadata": {
            "needs_background": "light"
          }
        }
      ]
    },
    {
      "cell_type": "code",
      "source": [
        "# Randomly sampling 35 samples and calculating their sample means ans standard deviations 10000 times\n",
        "sample2_means = []\n",
        "sample2_std = []\n",
        "for i in range(10000):\n",
        "  sample = np.random.choice(sample2, 35) # Randomly sample 35 values from sample2 with replacement\n",
        "  sample2_means.append(np.mean(sample)) # Calculate the mean for each trial\n",
        "  sample2_std.append(np.std(sample)) # Calculate the standard deviation for each trial"
      ],
      "metadata": {
        "id": "QJU9Qk9ATL6B"
      },
      "execution_count": 9,
      "outputs": []
    },
    {
      "cell_type": "markdown",
      "source": [
        "**Check - distribution of sample means is normal**"
      ],
      "metadata": {
        "id": "ClsrKIc4S1he"
      }
    },
    {
      "cell_type": "code",
      "source": [
        "plt.hist(sample2_means)\n",
        "plt.xlabel('Sample means')\n",
        "plt.ylabel('Frequency')\n",
        "plt.title('Distribution of sample means')"
      ],
      "metadata": {
        "colab": {
          "base_uri": "https://localhost:8080/",
          "height": 313
        },
        "id": "g0yyv5iSRujD",
        "outputId": "98bfaede-dc8d-4397-e5b4-d601519e03c0"
      },
      "execution_count": 10,
      "outputs": [
        {
          "output_type": "execute_result",
          "data": {
            "text/plain": [
              "Text(0.5, 1.0, 'Distribution of sample means')"
            ]
          },
          "metadata": {},
          "execution_count": 10
        },
        {
          "output_type": "display_data",
          "data": {
            "text/plain": [
              "<Figure size 432x288 with 1 Axes>"
            ],
            "image/png": "[encoded data removed]"
          },
          "metadata": {
            "needs_background": "light"
          }
        }
      ]
    },
    {
      "cell_type": "markdown",
      "source": [
        "**Check - The average of the sample means and sample standard deviation should be close to the true population mean 5 and true standard deviation 2.242 respectively**"
      ],
      "metadata": {
        "id": "6Zq32QP7TcfO"
      }
    },
    {
      "cell_type": "code",
      "source": [
        "print('Mean of the sample means', np.mean(sample2_means))\n",
        "print('Mean of the sample standard deviations', np.mean(sample2_std))"
      ],
      "metadata": {
        "colab": {
          "base_uri": "https://localhost:8080/"
        },
        "id": "R-Md7wewTXVQ",
        "outputId": "9655c962-805a-416a-9ece-fda0a6e60b2d"
      },
      "execution_count": 11,
      "outputs": [
        {
          "output_type": "stream",
          "name": "stdout",
          "text": [
            "Mean of the sample means 4.990471428571429\n",
            "Mean of the sample standard deviations 2.1921715949417635\n"
          ]
        }
      ]
    },
    {
      "cell_type": "markdown",
      "source": [
        "**Check - standard error of the sample means**"
      ],
      "metadata": {
        "id": "Az9vapIUUTNb"
      }
    },
    {
      "cell_type": "code",
      "source": [
        "print('Standard error of the sample means with sample size 35', 2.242 / np.sqrt(35))"
      ],
      "metadata": {
        "colab": {
          "base_uri": "https://localhost:8080/"
        },
        "id": "QhrSF__7Tiqm",
        "outputId": "32709c87-c3ae-4007-e6f9-2edbfbf1ec9d"
      },
      "execution_count": 12,
      "outputs": [
        {
          "output_type": "stream",
          "name": "stdout",
          "text": [
            "Standard error of the sample means with sample size 35 0.37896716782026685\n"
          ]
        }
      ]
    },
    {
      "cell_type": "markdown",
      "source": [
        "**Check - standard error of the sample means should decrease as the sample size increases (`n=50`):**"
      ],
      "metadata": {
        "id": "JA4G4BLRU0_H"
      }
    },
    {
      "cell_type": "code",
      "source": [
        "sample2_means = []\n",
        "for i in range(10000):\n",
        "  sample = np.random.choice(sample2, 50) # Randomly sample 50 values from sample2 with replacement\n",
        "  sample2_means.append(np.mean(sample))\n",
        "\n",
        "print('Standard error of the sample means with sample size 50', 2.242 / np.sqrt(50))"
      ],
      "metadata": {
        "colab": {
          "base_uri": "https://localhost:8080/"
        },
        "id": "DcDoweIcUlQR",
        "outputId": "7c0456bd-1548-420e-b343-2ee70cdd6ff4"
      },
      "execution_count": 13,
      "outputs": [
        {
          "output_type": "stream",
          "name": "stdout",
          "text": [
            "Standard error of the sample means with sample size 50 0.3170666806840479\n"
          ]
        }
      ]
    },
    {
      "cell_type": "markdown",
      "source": [
        "**Check - standard error of the sample means should increase as the sample size decreases (`n=28`):**"
      ],
      "metadata": {
        "id": "xngsgqrQWZNq"
      }
    },
    {
      "cell_type": "code",
      "source": [
        "sample2_means = []\n",
        "for i in range(10000):\n",
        "  sample = np.random.choice(sample2, 28) # Randomly sample 28 values from sample2 with replacement\n",
        "  sample2_means.append(np.mean(sample))\n",
        "\n",
        "print('Standard error of the sample means with sample size 28', 2.242 / np.sqrt(28))"
      ],
      "metadata": {
        "colab": {
          "base_uri": "https://localhost:8080/"
        },
        "id": "qY3Ys6x7WUv1",
        "outputId": "02bbb972-453c-4078-c4be-9399b5b5a677"
      },
      "execution_count": 14,
      "outputs": [
        {
          "output_type": "stream",
          "name": "stdout",
          "text": [
            "Standard error of the sample means with sample size 28 0.4236981742433437\n"
          ]
        }
      ]
    },
    {
      "cell_type": "markdown",
      "source": [
        "### 3. The Central Limit Theorem applies even to binomial populations provided that the minimum of `np` and `n(1-p)` is at least `5`, where `n` refers to the sample size, and `p` is the probability of \"success\" on any given trial."
      ],
      "metadata": {
        "id": "nc9KC0mwZvs-"
      }
    },
    {
      "cell_type": "code",
      "source": [
        "# True population with binomial distribution\n",
        "np.random.seed(128)\n",
        "\n",
        "n, p = 30, 0.5\n",
        "# Check if minimum of np and n(1-p) is at least 5\n",
        "print('Minimum of np and n(1-p) is', min(n*p, n*(1-p)))\n",
        "# Binomial mean = n * p\n",
        "print('Mean of the binomial distrbution with n=30 and p=0.5 is', n*p)\n",
        "\n",
        "# Tossing a coin (p=0.5) 30 times and note the number of heads and tails, repeat it 100000 times\n",
        "sample3 = np.random.binomial(n, p, 100000) # success rate 'p'=0.5, sample_size=100000"
      ],
      "metadata": {
        "colab": {
          "base_uri": "https://localhost:8080/"
        },
        "id": "hvLQQekDazbE",
        "outputId": "88df9aa9-ea3e-4a32-c4bb-6af063514215"
      },
      "execution_count": 15,
      "outputs": [
        {
          "output_type": "stream",
          "name": "stdout",
          "text": [
            "Minimum of np and n(1-p) is 15.0\n",
            "Mean of the binomial distrbution with n=30 and p=0.5 is 15.0\n"
          ]
        }
      ]
    },
    {
      "cell_type": "markdown",
      "source": [
        "**Check - distribution of number of heads is normal**"
      ],
      "metadata": {
        "id": "LB3ptVo7AUxn"
      }
    },
    {
      "cell_type": "code",
      "source": [
        "# Histogram showing the distribution of samples with their frequencies on y axis\n",
        "plt.hist(sample3)\n",
        "plt.xlabel('Number of heads')\n",
        "plt.ylabel('Frequency')\n",
        "plt.title('Distribution of \"number of heads\" in 30 coin tosses')"
      ],
      "metadata": {
        "colab": {
          "base_uri": "https://localhost:8080/",
          "height": 313
        },
        "id": "3VqV9EOsbzg_",
        "outputId": "fae6527f-1105-4c19-d135-522ecc3e5d6e"
      },
      "execution_count": 16,
      "outputs": [
        {
          "output_type": "execute_result",
          "data": {
            "text/plain": [
              "Text(0.5, 1.0, 'Distribution of \"number of heads\" in 30 coin tosses')"
            ]
          },
          "metadata": {},
          "execution_count": 16
        },
        {
          "output_type": "display_data",
          "data": {
            "text/plain": [
              "<Figure size 432x288 with 1 Axes>"
            ],
            "image/png": "[encoded data removed]"
          },
          "metadata": {
            "needs_background": "light"
          }
        }
      ]
    },
    {
      "cell_type": "markdown",
      "source": [
        "**Check - By Law of Large Numbers, as the sample size increases, the mean of the above distribution should be close the true population mean `15`**"
      ],
      "metadata": {
        "id": "x_ezqcVVBBxQ"
      }
    },
    {
      "cell_type": "code",
      "source": [
        "print('Mean of \"number of heads\" after flipping a coin 30 times, repeating it 100000 times is', np.mean(sample3))"
      ],
      "metadata": {
        "colab": {
          "base_uri": "https://localhost:8080/"
        },
        "id": "KYJevqi-cG0l",
        "outputId": "21617a96-2eb1-4752-a8c2-8a553b1de653"
      },
      "execution_count": 17,
      "outputs": [
        {
          "output_type": "stream",
          "name": "stdout",
          "text": [
            "Mean of \"number of heads\" after flipping a coin 30 times, repeating it 100000 times is 15.0033\n"
          ]
        }
      ]
    },
    {
      "cell_type": "markdown",
      "source": [
        "**Check - If the minimum of `np` and `n(1-p)` is below 5, the CLT will not hold, meaning the distribution of sample means will not be normal**"
      ],
      "metadata": {
        "id": "6mxVxNtnCZQN"
      }
    },
    {
      "cell_type": "code",
      "source": [
        "# True population with binomial distribution\n",
        "np.random.seed(128)\n",
        "\n",
        "n, p = 5, 0.2\n",
        "# Check if minimum of np and n(1-p) is at least 5\n",
        "print('Minimum of np and n(1-p) is', min(n*p, n*(1-p)))\n",
        "# Binomial mean = n * p\n",
        "print('Mean of the binomial distrbution with n=5 and p=0.2 is', n*p)\n",
        "\n",
        "# Tossing a coin (p=0.2) 5 times and note the number of heads and tails, repeat it 100000 times\n",
        "sample3 = np.random.binomial(n, p, 100000) # success rate 'p'=0.2, sample_size=100000"
      ],
      "metadata": {
        "colab": {
          "base_uri": "https://localhost:8080/"
        },
        "id": "meyYM90Fci4J",
        "outputId": "b51b95a9-dff1-49da-c410-58d19d854786"
      },
      "execution_count": 18,
      "outputs": [
        {
          "output_type": "stream",
          "name": "stdout",
          "text": [
            "Minimum of np and n(1-p) is 1.0\n",
            "Mean of the binomial distrbution with n=5 and p=0.2 is 1.0\n"
          ]
        }
      ]
    },
    {
      "cell_type": "markdown",
      "source": [
        "**Check - the distribution is not normal**"
      ],
      "metadata": {
        "id": "aeZCY03oDRnv"
      }
    },
    {
      "cell_type": "code",
      "source": [
        "# Histogram showing the distribution of samples with their frequencies on y axis\n",
        "plt.hist(sample3)\n",
        "plt.xlabel('Number of heads')\n",
        "plt.ylabel('Frequency')\n",
        "plt.title('Distribution of \"number of heads\" in 5 coin tosses')"
      ],
      "metadata": {
        "colab": {
          "base_uri": "https://localhost:8080/",
          "height": 313
        },
        "id": "TlbF6Tx7C2HF",
        "outputId": "34ff57fd-c6c3-442f-e541-32610d60124c"
      },
      "execution_count": 19,
      "outputs": [
        {
          "output_type": "execute_result",
          "data": {
            "text/plain": [
              "Text(0.5, 1.0, 'Distribution of \"number of heads\" in 5 coin tosses')"
            ]
          },
          "metadata": {},
          "execution_count": 19
        },
        {
          "output_type": "display_data",
          "data": {
            "text/plain": [
              "<Figure size 432x288 with 1 Axes>"
            ],
            "image/png": "[encoded data removed]"
          },
          "metadata": {
            "needs_background": "light"
          }
        }
      ]
    }
  ]
}